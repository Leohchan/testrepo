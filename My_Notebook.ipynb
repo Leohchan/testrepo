/***IBM Data Science Professional Certificate Capstone Project***/
This notebook is for final capstone projects
import pandas as pd
import numpy as np
print("Hello Capstone Project Course!")
