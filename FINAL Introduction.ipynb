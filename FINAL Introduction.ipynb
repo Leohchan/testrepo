{
    "cells": [
        {
            "cell_type": "markdown",
            "metadata": {
                "collapsed": true
            },
            "source": "# Exploring cafe in Seoul"
        },
        {
            "cell_type": "markdown",
            "metadata": {},
            "source": "## Background and Project objective"
        },
        {
            "cell_type": "markdown",
            "metadata": {},
            "source": "As a citizen of South Korea, I would possibly say that cafe industry has rapidly and widely spread nationwide.\nPlus, South Korea now has became one of the popular destinations for travelling from tourists in all around the world.\nSeoul as a capital city in South Korea, where more than a half poplulation of South Korea lives there, can be interested city to visit for the tourists comparing to the other cities.\nConsidering above-mentioned fact that not only it can be a great tourist city also it can be great location to start new business.\nIn this project, we are specifically going to talk about 'Caf\u00e9' industry in Seoul.\n\nChoosing a location is very important especially from business perspective.\nSeoul has 25 districts. \nThe objective of this project is to find out what district is more potential if we would like to open new restaurant.\n\nResult of this project will be useful for these people:\n1. Business owner who are looking for a potential location to open a new restaurant.\n2. Tourist who want to know what venue that they can visit if they go to certain district."
        },
        {
            "cell_type": "code",
            "execution_count": null,
            "metadata": {},
            "outputs": [],
            "source": ""
        }
    ],
    "metadata": {
        "kernelspec": {
            "display_name": "Python 3.7",
            "language": "python",
            "name": "python3"
        },
        "language_info": {
            "codemirror_mode": {
                "name": "ipython",
                "version": 3
            },
            "file_extension": ".py",
            "mimetype": "text/x-python",
            "name": "python",
            "nbconvert_exporter": "python",
            "pygments_lexer": "ipython3",
            "version": "3.7.10"
        }
    },
    "nbformat": 4,
    "nbformat_minor": 1
}